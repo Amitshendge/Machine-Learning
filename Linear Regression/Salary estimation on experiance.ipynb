{
 "cells": [
  {
   "cell_type": "code",
   "execution_count": 139,
   "id": "ecc70cca",
   "metadata": {},
   "outputs": [],
   "source": [
    "import numpy as np\n",
    "import pandas as pd                   \n",
    "import matplotlib.pyplot as plt       \n",
    "import seaborn as sns\n",
    "from pyspark.ml.feature import VectorAssembler"
   ]
  },
  {
   "cell_type": "code",
   "execution_count": 140,
   "id": "b55760a9",
   "metadata": {},
   "outputs": [],
   "source": [
    "df = spark.read.csv(\"file:///home/amit/Downloads/Salary_Data.csv\",inferSchema=True,header=True)"
   ]
  },
  {
   "cell_type": "code",
   "execution_count": 141,
   "id": "20018215",
   "metadata": {},
   "outputs": [
    {
     "name": "stdout",
     "output_type": "stream",
     "text": [
      "+---------------+----+------+\n",
      "|YearsExperience| Age|Salary|\n",
      "+---------------+----+------+\n",
      "|            1.1|21.0| 39343|\n",
      "|            1.3|21.5| 46205|\n",
      "|            1.5|21.7| 37731|\n",
      "|            2.0|22.0| 43525|\n",
      "|            2.2|22.2| 39891|\n",
      "+---------------+----+------+\n",
      "only showing top 5 rows\n",
      "\n"
     ]
    }
   ],
   "source": [
    "df.show(5)"
   ]
  },
  {
   "cell_type": "code",
   "execution_count": 142,
   "id": "fe2e6567",
   "metadata": {},
   "outputs": [],
   "source": [
    "feature = VectorAssembler(inputCols=['YearsExperience','Age'],outputCol='features')"
   ]
  },
  {
   "cell_type": "code",
   "execution_count": 143,
   "id": "26562449",
   "metadata": {},
   "outputs": [],
   "source": [
    "final_data  = feature.transform(df)"
   ]
  },
  {
   "cell_type": "code",
   "execution_count": 144,
   "id": "527acc43",
   "metadata": {},
   "outputs": [],
   "source": [
    "final_data = final_data.select('features','Salary')"
   ]
  },
  {
   "cell_type": "code",
   "execution_count": 145,
   "id": "c2c0e2d0",
   "metadata": {
    "scrolled": true
   },
   "outputs": [
    {
     "name": "stdout",
     "output_type": "stream",
     "text": [
      "+----------+------+\n",
      "|  features|Salary|\n",
      "+----------+------+\n",
      "|[1.1,21.0]| 39343|\n",
      "|[1.3,21.5]| 46205|\n",
      "|[1.5,21.7]| 37731|\n",
      "|[2.0,22.0]| 43525|\n",
      "|[2.2,22.2]| 39891|\n",
      "+----------+------+\n",
      "only showing top 5 rows\n",
      "\n"
     ]
    }
   ],
   "source": [
    "final_data.show(5)"
   ]
  },
  {
   "cell_type": "code",
   "execution_count": 146,
   "id": "959b0c8a",
   "metadata": {},
   "outputs": [],
   "source": [
    "train,test = final_data.randomSplit([0.8,0.3])"
   ]
  },
  {
   "cell_type": "code",
   "execution_count": 147,
   "id": "75e365cc",
   "metadata": {},
   "outputs": [],
   "source": [
    "from pyspark.ml.regression import LinearRegression"
   ]
  },
  {
   "cell_type": "code",
   "execution_count": 148,
   "id": "67ee390f",
   "metadata": {},
   "outputs": [
    {
     "name": "stderr",
     "output_type": "stream",
     "text": [
      "2021-12-27 21:39:21,734 WARN util.Instrumentation: [19994a3c] regParam is zero, which might cause numerical instability and overfitting.\n"
     ]
    }
   ],
   "source": [
    "regressor = LinearRegression(featuresCol = 'features', labelCol = 'Salary')\n",
    "regressor = regressor.fit(train)"
   ]
  },
  {
   "cell_type": "code",
   "execution_count": 149,
   "id": "04f6a2dc",
   "metadata": {
    "scrolled": true
   },
   "outputs": [
    {
     "name": "stdout",
     "output_type": "stream",
     "text": [
      "+-----------+------+------------------+\n",
      "|   features|Salary|        prediction|\n",
      "+-----------+------+------------------+\n",
      "| [1.5,21.7]| 37731| 44278.90579151802|\n",
      "| [2.0,22.0]| 43525| 47512.20530813934|\n",
      "| [4.0,24.0]| 56957| 62288.41194821046|\n",
      "| [4.9,25.0]| 67938|  69168.0810079407|\n",
      "| [7.1,30.0]| 98273| 91872.43831956924|\n",
      "| [9.5,35.0]|116969|115593.66415180847|\n",
      "|[10.3,37.0]|122391|124268.65966821562|\n",
      "+-----------+------+------------------+\n",
      "\n"
     ]
    }
   ],
   "source": [
    "predictions = regressor.transform(test)\n",
    "predictions.show(10)"
   ]
  },
  {
   "cell_type": "code",
   "execution_count": 155,
   "id": "8ecfee04",
   "metadata": {},
   "outputs": [
    {
     "data": {
      "text/plain": [
       "DenseVector([5084.3426, 2303.7607])"
      ]
     },
     "execution_count": 155,
     "metadata": {},
     "output_type": "execute_result"
    }
   ],
   "source": [
    "regressor.coefficients"
   ]
  },
  {
   "cell_type": "code",
   "execution_count": 156,
   "id": "ff1036c6",
   "metadata": {},
   "outputs": [
    {
     "data": {
      "text/plain": [
       "-13339.21567157692"
      ]
     },
     "execution_count": 156,
     "metadata": {},
     "output_type": "execute_result"
    }
   ],
   "source": [
    "regressor.intercept"
   ]
  },
  {
   "cell_type": "code",
   "execution_count": 150,
   "id": "cbadd726",
   "metadata": {},
   "outputs": [],
   "source": [
    "nnn = predictions.toPandas()"
   ]
  },
  {
   "cell_type": "code",
   "execution_count": 151,
   "id": "5691da68",
   "metadata": {
    "scrolled": true
   },
   "outputs": [
    {
     "data": {
      "text/plain": [
       "<matplotlib.legend.Legend at 0x7fa2d53ce760>"
      ]
     },
     "execution_count": 151,
     "metadata": {},
     "output_type": "execute_result"
    },
    {
     "data": {
      "image/png": "[encoded data removed]",
      "text/plain": [
       "<Figure size 432x288 with 1 Axes>"
      ]
     },
     "metadata": {
      "needs_background": "light"
     },
     "output_type": "display_data"
    }
   ],
   "source": [
    "plt.plot(nnn['prediction'])\n",
    "plt.plot(nnn['Salary'])\n",
    "plt.legend(['Prediction','Salary'])"
   ]
  },
  {
   "cell_type": "code",
   "execution_count": 152,
   "id": "70af438a",
   "metadata": {},
   "outputs": [],
   "source": [
    "results = regressor.evaluate(test)"
   ]
  },
  {
   "cell_type": "code",
   "execution_count": 153,
   "id": "09565a2c",
   "metadata": {
    "scrolled": true
   },
   "outputs": [
    {
     "data": {
      "text/plain": [
       "4393.083417981861"
      ]
     },
     "execution_count": 153,
     "metadata": {},
     "output_type": "execute_result"
    }
   ],
   "source": [
    "results.rootMeanSquaredError"
   ]
  },
  {
   "cell_type": "code",
   "execution_count": 154,
   "id": "438b3f9c",
   "metadata": {},
   "outputs": [
    {
     "name": "stdout",
     "output_type": "stream",
     "text": [
      "Root Mean Squared Error (RMSE) on test data = 4393.08\n"
     ]
    }
   ],
   "source": [
    "print(\"Root Mean Squared Error (RMSE) on test data = %g\" % results.rootMeanSquaredError)"
   ]
  },
  {
   "cell_type": "code",
   "execution_count": null,
   "id": "cf429794",
   "metadata": {},
   "outputs": [],
   "source": []
  }
 ],
 "metadata": {
  "kernelspec": {
   "display_name": "Python 3 (ipykernel)",
   "language": "python",
   "name": "python3"
  },
  "language_info": {
   "codemirror_mode": {
    "name": "ipython",
    "version": 3
   },
   "file_extension": ".py",
   "mimetype": "text/x-python",
   "name": "python",
   "nbconvert_exporter": "python",
   "pygments_lexer": "ipython3",
   "version": "3.8.10"
  }
 },
 "nbformat": 4,
 "nbformat_minor": 5
}
