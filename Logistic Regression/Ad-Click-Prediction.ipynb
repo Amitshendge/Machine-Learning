{
 "cells": [
  {
   "cell_type": "code",
   "execution_count": 117,
   "id": "014cf561",
   "metadata": {},
   "outputs": [],
   "source": [
    "import numpy as np\n",
    "import pandas as pd                   \n",
    "import matplotlib.pyplot as plt       \n",
    "import seaborn as sns\n",
    "from pyspark.ml.feature import VectorAssembler"
   ]
  },
  {
   "cell_type": "code",
   "execution_count": 58,
   "id": "3f50eab4",
   "metadata": {},
   "outputs": [],
   "source": [
    "df = spark.read.csv(\"file:///home/amit/Downloads/advertising.csv\",inferSchema=True,header=True).drop('Timestamp')"
   ]
  },
  {
   "cell_type": "code",
   "execution_count": 59,
   "id": "8411c56a",
   "metadata": {},
   "outputs": [
    {
     "name": "stdout",
     "output_type": "stream",
     "text": [
      "+------------------------+---+-----------+--------------------+--------------------+--------------+----+----------+-------------+\n",
      "|Daily Time Spent on Site|Age|Area Income|Daily Internet Usage|       Ad Topic Line|          City|Male|   Country|Clicked on Ad|\n",
      "+------------------------+---+-----------+--------------------+--------------------+--------------+----+----------+-------------+\n",
      "|                   68.95| 35|    61833.9|              256.09|Cloned 5thgenerat...|   Wrightburgh|   0|   Tunisia|            0|\n",
      "|                   80.23| 31|   68441.85|              193.77|Monitored nationa...|     West Jodi|   1|     Nauru|            0|\n",
      "|                   69.47| 26|   59785.94|               236.5|Organic bottom-li...|      Davidton|   0|San Marino|            0|\n",
      "|                   74.15| 29|   54806.18|              245.89|Triple-buffered r...|West Terrifurt|   1|     Italy|            0|\n",
      "|                   68.37| 35|   73889.99|              225.58|Robust logistical...|  South Manuel|   0|   Iceland|            0|\n",
      "+------------------------+---+-----------+--------------------+--------------------+--------------+----+----------+-------------+\n",
      "only showing top 5 rows\n",
      "\n"
     ]
    }
   ],
   "source": [
    "df.show(5)"
   ]
  },
  {
   "cell_type": "code",
   "execution_count": 60,
   "id": "6fb388bf",
   "metadata": {},
   "outputs": [],
   "source": [
    "df = df.dropna()"
   ]
  },
  {
   "cell_type": "code",
   "execution_count": 61,
   "id": "ecb4a0d4",
   "metadata": {
    "scrolled": true
   },
   "outputs": [
    {
     "name": "stdout",
     "output_type": "stream",
     "text": [
      "root\n",
      " |-- Daily Time Spent on Site: double (nullable = true)\n",
      " |-- Age: integer (nullable = true)\n",
      " |-- Area Income: double (nullable = true)\n",
      " |-- Daily Internet Usage: double (nullable = true)\n",
      " |-- Ad Topic Line: string (nullable = true)\n",
      " |-- City: string (nullable = true)\n",
      " |-- Male: integer (nullable = true)\n",
      " |-- Country: string (nullable = true)\n",
      " |-- Clicked on Ad: integer (nullable = true)\n",
      "\n"
     ]
    }
   ],
   "source": [
    "df.printSchema()"
   ]
  },
  {
   "cell_type": "code",
   "execution_count": 62,
   "id": "d138d9e1",
   "metadata": {
    "scrolled": false
   },
   "outputs": [
    {
     "data": {
      "text/plain": [
       "[('Daily Time Spent on Site', 'double'),\n",
       " ('Age', 'int'),\n",
       " ('Area Income', 'double'),\n",
       " ('Daily Internet Usage', 'double'),\n",
       " ('Ad Topic Line', 'string'),\n",
       " ('City', 'string'),\n",
       " ('Male', 'int'),\n",
       " ('Country', 'string'),\n",
       " ('Clicked on Ad', 'int')]"
      ]
     },
     "execution_count": 62,
     "metadata": {},
     "output_type": "execute_result"
    }
   ],
   "source": [
    "df.dtypes"
   ]
  },
  {
   "cell_type": "code",
   "execution_count": 63,
   "id": "25eb12f5",
   "metadata": {},
   "outputs": [],
   "source": [
    "categorical_columns=['Clicked on Ad','Male']\n",
    "numeric_columns=[]\n",
    "for col,datatype in df.dtypes:\n",
    "    if datatype == 'string':\n",
    "        categorical_columns.append(col)\n",
    "    elif col not in categorical_columns:\n",
    "        numeric_columns.append(col)"
   ]
  },
  {
   "cell_type": "code",
   "execution_count": 64,
   "id": "a1cd6f99",
   "metadata": {},
   "outputs": [
    {
     "data": {
      "text/plain": [
       "['Clicked on Ad', 'Male', 'Ad Topic Line', 'City', 'Country']"
      ]
     },
     "execution_count": 64,
     "metadata": {},
     "output_type": "execute_result"
    }
   ],
   "source": [
    "categorical_columns"
   ]
  },
  {
   "cell_type": "code",
   "execution_count": 65,
   "id": "485193db",
   "metadata": {
    "scrolled": true
   },
   "outputs": [
    {
     "data": {
      "text/plain": [
       "['Daily Time Spent on Site', 'Age', 'Area Income', 'Daily Internet Usage']"
      ]
     },
     "execution_count": 65,
     "metadata": {},
     "output_type": "execute_result"
    }
   ],
   "source": [
    "numeric_columns"
   ]
  },
  {
   "cell_type": "code",
   "execution_count": 68,
   "id": "80562260",
   "metadata": {},
   "outputs": [],
   "source": [
    "dataframe = df.toPandas()"
   ]
  },
  {
   "cell_type": "code",
   "execution_count": null,
   "id": "4d7c8863",
   "metadata": {},
   "outputs": [],
   "source": []
  },
  {
   "cell_type": "code",
   "execution_count": 72,
   "id": "c9d07da2",
   "metadata": {},
   "outputs": [],
   "source": [
    "x = df.select('Area Income','Age')"
   ]
  },
  {
   "cell_type": "code",
   "execution_count": 73,
   "id": "aa5e1f7e",
   "metadata": {},
   "outputs": [],
   "source": [
    "y = df.select('Clicked on Ad')"
   ]
  },
  {
   "cell_type": "code",
   "execution_count": 75,
   "id": "35d3e345",
   "metadata": {},
   "outputs": [],
   "source": [
    "feature = VectorAssembler(inputCols=['Area Income','Age'],outputCol='features')"
   ]
  },
  {
   "cell_type": "code",
   "execution_count": 77,
   "id": "19855eed",
   "metadata": {},
   "outputs": [],
   "source": [
    "final_data  = feature.transform(df)"
   ]
  },
  {
   "cell_type": "code",
   "execution_count": 80,
   "id": "e86f22c2",
   "metadata": {},
   "outputs": [],
   "source": [
    "final_data = final_data.select('features','Clicked on Ad')"
   ]
  },
  {
   "cell_type": "code",
   "execution_count": 82,
   "id": "607892ba",
   "metadata": {},
   "outputs": [
    {
     "name": "stdout",
     "output_type": "stream",
     "text": [
      "+---------------+-------------+\n",
      "|       features|Clicked on Ad|\n",
      "+---------------+-------------+\n",
      "| [61833.9,35.0]|            0|\n",
      "|[68441.85,31.0]|            0|\n",
      "|[59785.94,26.0]|            0|\n",
      "|[54806.18,29.0]|            0|\n",
      "|[73889.99,35.0]|            0|\n",
      "+---------------+-------------+\n",
      "only showing top 5 rows\n",
      "\n"
     ]
    }
   ],
   "source": [
    "final_data.show(5)"
   ]
  },
  {
   "cell_type": "code",
   "execution_count": 85,
   "id": "a5e55cf8",
   "metadata": {},
   "outputs": [],
   "source": [
    "train,test = final_data.randomSplit([0.75,0.25])"
   ]
  },
  {
   "cell_type": "code",
   "execution_count": 86,
   "id": "692788b7",
   "metadata": {
    "scrolled": true
   },
   "outputs": [],
   "source": [
    "from pyspark.ml.classification import LogisticRegression\n",
    "lr = LogisticRegression(featuresCol = 'features', labelCol = 'Clicked on Ad', maxIter=10)\n",
    "lrModel = lr.fit(train)"
   ]
  },
  {
   "cell_type": "code",
   "execution_count": 87,
   "id": "5f34834d",
   "metadata": {},
   "outputs": [
    {
     "data": {
      "image/png": "[encoded data removed]",
      "text/plain": [
       "<Figure size 432x288 with 1 Axes>"
      ]
     },
     "metadata": {
      "needs_background": "light"
     },
     "output_type": "display_data"
    }
   ],
   "source": [
    "import matplotlib.pyplot as plt\n",
    "import numpy as np\n",
    "beta = np.sort(lrModel.coefficients)\n",
    "plt.plot(beta)\n",
    "plt.ylabel('Beta Coefficients')\n",
    "plt.show()"
   ]
  },
  {
   "cell_type": "code",
   "execution_count": 116,
   "id": "6435eef1",
   "metadata": {},
   "outputs": [
    {
     "name": "stderr",
     "output_type": "stream",
     "text": [
      "/home/amit/Downloads/spark/python/pyspark/sql/context.py:125: FutureWarning: Deprecated in 3.0.0. Use SparkSession.builder.getOrCreate() instead.\n",
      "  warnings.warn(\n"
     ]
    },
    {
     "data": {
      "image/png": "[encoded data removed]",
      "text/plain": [
       "<Figure size 432x288 with 1 Axes>"
      ]
     },
     "metadata": {
      "needs_background": "light"
     },
     "output_type": "display_data"
    },
    {
     "name": "stdout",
     "output_type": "stream",
     "text": [
      "Training set areaUnderROC: 0.8641898108216893\n"
     ]
    }
   ],
   "source": [
    "trainingSummary = lrModel.summary\n",
    "roc = trainingSummary.roc.toPandas()\n",
    "plt.plot(roc['FPR'],roc['TPR'])\n",
    "plt.ylabel('False Positive Rate')\n",
    "plt.xlabel('True Positive Rate')\n",
    "plt.title('ROC Curve')\n",
    "plt.show()\n",
    "print('Training set areaUnderROC: ' + str(trainingSummary.areaUnderROC))"
   ]
  },
  {
   "cell_type": "code",
   "execution_count": 89,
   "id": "461a8bdf",
   "metadata": {},
   "outputs": [
    {
     "name": "stderr",
     "output_type": "stream",
     "text": [
      "/home/amit/Downloads/spark/python/pyspark/sql/context.py:125: FutureWarning: Deprecated in 3.0.0. Use SparkSession.builder.getOrCreate() instead.\n",
      "  warnings.warn(\n"
     ]
    },
    {
     "data": {
      "image/png": "[encoded data removed]",
      "text/plain": [
       "<Figure size 432x288 with 1 Axes>"
      ]
     },
     "metadata": {
      "needs_background": "light"
     },
     "output_type": "display_data"
    }
   ],
   "source": [
    "pr = trainingSummary.pr.toPandas()\n",
    "plt.plot(pr['recall'],pr['precision'])\n",
    "plt.ylabel('Precision')\n",
    "plt.xlabel('Recall')\n",
    "plt.show()"
   ]
  },
  {
   "cell_type": "code",
   "execution_count": 93,
   "id": "236ddcdc",
   "metadata": {},
   "outputs": [
    {
     "name": "stdout",
     "output_type": "stream",
     "text": [
      "+---------------+-------------+--------------------+--------------------+----------+\n",
      "|       features|Clicked on Ad|       rawPrediction|         probability|prediction|\n",
      "+---------------+-------------+--------------------+--------------------+----------+\n",
      "|[15598.29,45.0]|            1|[-5.6432166714991...|[0.00352896068938...|       1.0|\n",
      "|[18368.57,36.0]|            1|[-4.0222064843104...|[0.01759815299679...|       1.0|\n",
      "|[20856.54,38.0]|            1|[-4.0639365651268...|[0.01689104148473...|       1.0|\n",
      "|[22456.04,33.0]|            1|[-3.1571713185629...|[0.04080963636141...|       1.0|\n",
      "|[23942.61,43.0]|            1|[-4.4898622359654...|[0.01109764978592...|       1.0|\n",
      "|[24030.06,44.0]|            1|[-4.6294124734172...|[0.00966614562979...|       1.0|\n",
      "|[24078.93,38.0]|            1|[-3.7332505140335...|[0.02335640558383...|       1.0|\n",
      "| [24852.9,41.0]|            1|[-4.0993980850991...|[0.01631215492778...|       1.0|\n",
      "|[25371.52,35.0]|            1|[-3.1550297408578...|[0.04089354921585...|       1.0|\n",
      "|[25598.75,40.0]|            1|[-3.8743334665898...|[0.02034563423309...|       1.0|\n",
      "+---------------+-------------+--------------------+--------------------+----------+\n",
      "only showing top 10 rows\n",
      "\n"
     ]
    }
   ],
   "source": [
    "predictions = lrModel.transform(test)\n",
    "predictions.show(10)"
   ]
  },
  {
   "cell_type": "code",
   "execution_count": 114,
   "id": "20dd70a6",
   "metadata": {},
   "outputs": [
    {
     "name": "stdout",
     "output_type": "stream",
     "text": [
      "Test Area Under ROC 0.9001736111111112\n"
     ]
    }
   ],
   "source": [
    "from pyspark.ml.evaluation import BinaryClassificationEvaluator\n",
    "evaluator = BinaryClassificationEvaluator().setLabelCol(\"Clicked on Ad\")\n",
    "print('Test Area Under ROC', evaluator.evaluate(predictions))"
   ]
  }
 ],
 "metadata": {
  "kernelspec": {
   "display_name": "Python 3 (ipykernel)",
   "language": "python",
   "name": "python3"
  },
  "language_info": {
   "codemirror_mode": {
    "name": "ipython",
    "version": 3
   },
   "file_extension": ".py",
   "mimetype": "text/x-python",
   "name": "python",
   "nbconvert_exporter": "python",
   "pygments_lexer": "ipython3",
   "version": "3.8.10"
  }
 },
 "nbformat": 4,
 "nbformat_minor": 5
}
